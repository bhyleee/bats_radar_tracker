{
 "cells": [
  {
   "cell_type": "raw",
   "id": "eaffbb9d-aba8-4cc9-9747-9bd40cd87109",
   "metadata": {},
   "source": []
  },
  {
   "cell_type": "markdown",
   "id": "2dfdb595-c57c-4616-b1d7-da2f9928035e",
   "metadata": {
    "tags": []
   },
   "source": [
    "### Random forest workflow for BATS\n",
    "# Code adapted from https://github.com/WillKoehrsen/Data-Analysis/blob/master/random_forest_explained/Random%20Forest%20Explained.ipynb\n",
    "###\n",
    "\n"
   ]
  },
  {
   "cell_type": "code",
   "execution_count": 61,
   "id": "35365715-97be-4d96-9419-e12ce091303f",
   "metadata": {},
   "outputs": [],
   "source": [
    "# Import packages\n",
    "import pandas as pd\n",
    "import os\n",
    "import datetime\n",
    "import matplotlib.pyplot as plt\n",
    "%matplotlib inline\n",
    "import numpy as np\n",
    "from sklearn.model_selection import train_test_split\n",
    "from sklearn.ensemble import RandomForestClassifier\n",
    "# import cPickle\n",
    "from sklearn.metrics import confusion_matrix, f1_score, accuracy_score, precision_score, recall_score, roc_auc_score, average_precision_score, roc_curve, precision_recall_curve, matthews_corrcoef\n"
   ]
  },
  {
   "cell_type": "code",
   "execution_count": 33,
   "id": "ba6c4740-1601-4bdd-8d16-ed5b5822ae2a",
   "metadata": {},
   "outputs": [],
   "source": [
    "# Import data\n",
    "data = pd.read_csv('../data/training/sources/20230404_train/csv/20230404_training_sample.csv')"
   ]
  },
  {
   "cell_type": "code",
   "execution_count": 34,
   "id": "95b344f4-0f9b-4ce6-be66-233df07c9432",
   "metadata": {},
   "outputs": [],
   "source": [
    "# Although data are mostly pre-processed, drop nan and convert to binary for classifier\n",
    "data = data.dropna()\n",
    "# Reclassify yolo training data to binary\n",
    "data = data.replace({'class': {10: 0, 11:0, 12:0, 13:0}})"
   ]
  },
  {
   "cell_type": "code",
   "execution_count": 35,
   "id": "3ab48298-d3ff-4f77-8182-4bc1ee2d59b1",
   "metadata": {},
   "outputs": [],
   "source": [
    "# Separate features and labels\n",
    "labels = np.array(data['class'])\n",
    "\n",
    "# Remove the labels from the data\n",
    "features= data.drop('class', axis = 1)\n",
    "features= features.drop('date', axis =1)\n",
    "\n",
    "# Saving feature names for later use\n",
    "feature_list = list(features.columns)\n",
    "\n",
    "# Convert to numpy array\n",
    "features = np.array(features)"
   ]
  },
  {
   "cell_type": "code",
   "execution_count": 36,
   "id": "7efc044f-72b3-406c-8f85-3df73e4470ab",
   "metadata": {},
   "outputs": [],
   "source": [
    "# Split the data into training and testing sets\n",
    "train_features, test_features, train_labels, test_labels = train_test_split(features, labels, test_size = 0.25,\n",
    "                                                                           random_state = 42)"
   ]
  },
  {
   "cell_type": "code",
   "execution_count": 37,
   "id": "b74e7a7b-02f6-486f-84dd-57ef058fb24b",
   "metadata": {},
   "outputs": [
    {
     "name": "stdout",
     "output_type": "stream",
     "text": [
      "Training Features Shape: (23108, 6)\n",
      "Training Labels Shape: (23108,)\n",
      "Testing Features Shape: (7703, 6)\n",
      "Testing Labels Shape: (7703,)\n"
     ]
    }
   ],
   "source": [
    "print('Training Features Shape:', train_features.shape)\n",
    "print('Training Labels Shape:', train_labels.shape)\n",
    "print('Testing Features Shape:', test_features.shape)\n",
    "print('Testing Labels Shape:', test_labels.shape)\n",
    "\n"
   ]
  },
  {
   "cell_type": "code",
   "execution_count": 9,
   "id": "db84c182-9647-44dd-9015-b1d853390e8c",
   "metadata": {},
   "outputs": [],
   "source": [
    "# Train Model\n",
    "# Instantiate model \n",
    "rf = RandomForestClassifier(n_estimators= 1000, random_state=42)\n",
    "\n",
    "# Train the model on training data\n",
    "rf.fit(train_features, train_labels);"
   ]
  },
  {
   "cell_type": "code",
   "execution_count": 29,
   "id": "b386362a-41f6-421f-b2af-5f5ae4a12898",
   "metadata": {},
   "outputs": [
    {
     "name": "stdout",
     "output_type": "stream",
     "text": [
      "[[5920   18]\n",
      " [  74 1691]]\n",
      "Accuracy:  0.9880566013241594\n",
      "F1 score:  0.9735175590097871\n",
      "Precision:  0.9894675248683441\n",
      "Recall:  0.9580736543909348\n"
     ]
    }
   ],
   "source": [
    "# Create our predictions\n",
    "predictions = rf.predict(test_features)\n",
    "# Create confusion matrix\n",
    "from sklearn.metrics import confusion_matrix, f1_score, accuracy_score, precision_score, recall_score\n",
    "\n",
    "print(confusion_matrix(test_labels, predictions))\n",
    "# Display accuracy score\n",
    "print(\"Accuracy: \", accuracy_score(test_labels, predictions))\n",
    "# Display F1 score\n",
    "print(\"F1 score: \", f1_score(test_labels,predictions))\n",
    "# Display Precision\n",
    "print(\"Precision: \", precision_score(test_labels,predictions))\n",
    "# Display Recall\n",
    "print(\"Recall: \", recall_score(test_labels,predictions))"
   ]
  },
  {
   "cell_type": "code",
   "execution_count": 30,
   "id": "80b09439-b801-48d9-b98f-a54aa00213c8",
   "metadata": {},
   "outputs": [],
   "source": [
    "### Incorporate hyperparamter tuning\n",
    "# First explore random hyperparameter grid and fine-tune with grid search with cross validation\n",
    "###\n"
   ]
  },
  {
   "cell_type": "code",
   "execution_count": 33,
   "id": "46cd3275-1fcf-41aa-a4fe-b03818cdd360",
   "metadata": {},
   "outputs": [
    {
     "name": "stdout",
     "output_type": "stream",
     "text": [
      "{'n_estimators': [200, 400, 600, 800, 1000, 1200, 1400, 1600, 1800, 2000], 'max_features': ['auto', 'sqrt'], 'max_depth': [10, 20, 30, 40, 50, 60, 70, 80, 90, 100, 110, None], 'min_samples_split': [2, 5, 10], 'min_samples_leaf': [1, 2, 4], 'bootstrap': [True, False]}\n"
     ]
    }
   ],
   "source": [
    "from sklearn.model_selection import RandomizedSearchCV# Number of trees in random forest\n",
    "n_estimators = [int(x) for x in np.linspace(start = 200, stop = 2000, num = 10)]\n",
    "# Number of features to consider at every split\n",
    "max_features = ['auto', 'sqrt']\n",
    "# Maximum number of levels in tree\n",
    "max_depth = [int(x) for x in np.linspace(10, 110, num = 11)]\n",
    "max_depth.append(None)\n",
    "# Minimum number of samples required to split a node\n",
    "min_samples_split = [2, 5, 10]\n",
    "# Minimum number of samples required at each leaf node\n",
    "min_samples_leaf = [1, 2, 4]\n",
    "# Method of selecting samples for training each tree\n",
    "bootstrap = [True, False]# Create the random grid\n",
    "random_grid = {'n_estimators': n_estimators,\n",
    "               'max_features': max_features,\n",
    "               'max_depth': max_depth,\n",
    "               'min_samples_split': min_samples_split,\n",
    "               'min_samples_leaf': min_samples_leaf,\n",
    "               'bootstrap': bootstrap}\n",
    "print(random_grid)"
   ]
  },
  {
   "cell_type": "code",
   "execution_count": 34,
   "id": "77844e2d-5861-43ff-bc74-3fbc36c04c7e",
   "metadata": {},
   "outputs": [
    {
     "name": "stdout",
     "output_type": "stream",
     "text": [
      "Fitting 3 folds for each of 100 candidates, totalling 300 fits\n"
     ]
    },
    {
     "data": {
      "text/plain": [
       "RandomizedSearchCV(cv=3,\n",
       "                   estimator=RandomForestClassifier(n_estimators=1000,\n",
       "                                                    random_state=42),\n",
       "                   n_iter=100, n_jobs=-1,\n",
       "                   param_distributions={'bootstrap': [True, False],\n",
       "                                        'max_depth': [10, 20, 30, 40, 50, 60,\n",
       "                                                      70, 80, 90, 100, 110,\n",
       "                                                      None],\n",
       "                                        'max_features': ['auto', 'sqrt'],\n",
       "                                        'min_samples_leaf': [1, 2, 4],\n",
       "                                        'min_samples_split': [2, 5, 10],\n",
       "                                        'n_estimators': [200, 400, 600, 800,\n",
       "                                                         1000, 1200, 1400, 1600,\n",
       "                                                         1800, 2000]},\n",
       "                   random_state=42, verbose=2)"
      ]
     },
     "execution_count": 34,
     "metadata": {},
     "output_type": "execute_result"
    }
   ],
   "source": [
    "# Train random rf grid\n",
    "rf_random = RandomizedSearchCV(estimator = rf, param_distributions = random_grid, n_iter = 100, cv = 3, verbose=2, random_state=42, n_jobs = -1)\n",
    "# Fit the random search model\n",
    "rf_random.fit(train_features, train_labels)"
   ]
  },
  {
   "cell_type": "code",
   "execution_count": 36,
   "id": "cbd509f0-84e4-4397-983a-5a19371e36f7",
   "metadata": {},
   "outputs": [
    {
     "data": {
      "text/plain": [
       "{'n_estimators': 1400,\n",
       " 'min_samples_split': 2,\n",
       " 'min_samples_leaf': 1,\n",
       " 'max_features': 'auto',\n",
       " 'max_depth': 100,\n",
       " 'bootstrap': True}"
      ]
     },
     "execution_count": 36,
     "metadata": {},
     "output_type": "execute_result"
    }
   ],
   "source": [
    "# Return the best paramters\n",
    "rf_random.best_params_"
   ]
  },
  {
   "cell_type": "code",
   "execution_count": 49,
   "id": "f90f82c0-0b4d-4d0f-b2ba-341e1ba2d36c",
   "metadata": {},
   "outputs": [
    {
     "data": {
      "text/plain": [
       "{'n_estimators': 1400,\n",
       " 'min_samples_split': 2,\n",
       " 'min_samples_leaf': 1,\n",
       " 'max_features': 'auto',\n",
       " 'max_depth': 100,\n",
       " 'bootstrap': True}"
      ]
     },
     "execution_count": 49,
     "metadata": {},
     "output_type": "execute_result"
    }
   ],
   "source": [
    "rf_random.best_params_"
   ]
  },
  {
   "cell_type": "code",
   "execution_count": 31,
   "id": "c343c58a-708b-486a-8238-9a3cf096e174",
   "metadata": {},
   "outputs": [],
   "source": [
    "def evaluate(model, test_features, test_labels):\n",
    "    # Create our predictions\n",
    "    predictions = model.predict(test_features)\n",
    "    cm = confusion_matrix(test_labels, predictions)\n",
    "    accuracy = accuracy_score(test_labels, predictions)\n",
    "    f1 = f1_score(test_labels,predictions)\n",
    "    precision = precision_score(test_labels,predictions)\n",
    "    recall = recall_score(test_labels,predictions)\n",
    "    auc = roc_auc_score(test_labels,predictions)\n",
    "    prc = average_precision_score(test_labels,predictions)\n",
    "    print('Model Performance')\n",
    "    print('Accuracy: ', accuracy)\n",
    "    print('Precision: ', precision)\n",
    "    print('Recall: ', recall)\n",
    "    print('AUC: ', auc)\n",
    "    print('PRC: ', prc)\n",
    "    return accuracy, precision, recall"
   ]
  },
  {
   "cell_type": "code",
   "execution_count": 38,
   "id": "a82b95cb-5e4a-40be-b16d-7526c7c47e18",
   "metadata": {},
   "outputs": [
    {
     "name": "stdout",
     "output_type": "stream",
     "text": [
      "Model Performance\n",
      "Accuracy:  0.9881864208749838\n",
      "Precision:  0.9900468384074942\n",
      "Recall:  0.9580736543909348\n"
     ]
    }
   ],
   "source": [
    "best_random = rf_random.best_estimator_\n",
    "random_metrics = evaluate(best_random, test_features, test_labels)"
   ]
  },
  {
   "cell_type": "code",
   "execution_count": 43,
   "id": "216f2416-4984-42d9-a958-cb3b0dac7db8",
   "metadata": {},
   "outputs": [],
   "source": [
    "# RF Gridsearch\n",
    "\n",
    "from sklearn.model_selection import GridSearchCV\n",
    "# Create the parameter grid based on the results of random search \n",
    "param_grid = {\n",
    "    'bootstrap': [True],\n",
    "    'max_depth': [90, 100, 110],\n",
    "    'max_features': [2, 3],\n",
    "    'min_samples_leaf': [1, 2, 3],\n",
    "    'min_samples_split': [2, 4, 6],\n",
    "    'n_estimators': [1200, 1400, 1600]\n",
    "}\n",
    "\n",
    "# Create a based model\n",
    "rf = RandomForestClassifier()\n",
    "# Instantiate the grid search model\n",
    "grid_search = GridSearchCV(estimator = rf, param_grid = param_grid, \n",
    "                          cv = 3, n_jobs = -1, verbose = 2)"
   ]
  },
  {
   "cell_type": "code",
   "execution_count": 44,
   "id": "ec459d9e-f587-4430-99fb-87cbfe0ead22",
   "metadata": {},
   "outputs": [
    {
     "name": "stdout",
     "output_type": "stream",
     "text": [
      "Fitting 3 folds for each of 162 candidates, totalling 486 fits\n"
     ]
    },
    {
     "data": {
      "text/plain": [
       "GridSearchCV(cv=3, estimator=RandomForestClassifier(), n_jobs=-1,\n",
       "             param_grid={'bootstrap': [True], 'max_depth': [90, 100, 110],\n",
       "                         'max_features': [2, 3], 'min_samples_leaf': [1, 2, 3],\n",
       "                         'min_samples_split': [2, 4, 6],\n",
       "                         'n_estimators': [1200, 1400, 1600]},\n",
       "             verbose=2)"
      ]
     },
     "execution_count": 44,
     "metadata": {},
     "output_type": "execute_result"
    }
   ],
   "source": [
    "# Fit the grid search to the data\n",
    "grid_search.fit(train_features, train_labels)"
   ]
  },
  {
   "cell_type": "code",
   "execution_count": 45,
   "id": "57df8f04-6066-4732-b50f-568b463c6ac7",
   "metadata": {},
   "outputs": [
    {
     "name": "stdout",
     "output_type": "stream",
     "text": [
      "Model Performance\n",
      "Accuracy:  0.9877969622225107\n",
      "Precision:  0.9888823873610298\n",
      "Recall:  0.9575070821529745\n"
     ]
    }
   ],
   "source": [
    "best_grid = grid_search.best_estimator_\n",
    "grid_accuracy = evaluate(best_grid, test_features, test_labels)"
   ]
  },
  {
   "cell_type": "code",
   "execution_count": 50,
   "id": "8800078c-7d13-40d6-ada1-efe461d5a70b",
   "metadata": {},
   "outputs": [
    {
     "data": {
      "text/plain": [
       "RandomForestClassifier(max_depth=100, n_estimators=1400, random_state=42)"
      ]
     },
     "execution_count": 50,
     "metadata": {},
     "output_type": "execute_result"
    }
   ],
   "source": [
    "best_random"
   ]
  },
  {
   "cell_type": "code",
   "execution_count": 4,
   "id": "a4bbe3af-1903-4ca2-881d-adde9637dcfa",
   "metadata": {},
   "outputs": [],
   "source": [
    "import joblib"
   ]
  },
  {
   "cell_type": "code",
   "execution_count": 53,
   "id": "ce1c7757-f7a5-4d0e-9ff4-86fa35a9e599",
   "metadata": {},
   "outputs": [
    {
     "data": {
      "text/plain": [
       "['../data/doppler/models/20230405_rf_opt/my_random_forest.joblib']"
      ]
     },
     "execution_count": 53,
     "metadata": {},
     "output_type": "execute_result"
    }
   ],
   "source": [
    "# save\n",
    "joblib.dump(best_random, \"../data/doppler/models/20230405_rf_opt/my_random_forest.joblib\")\n",
    "\n"
   ]
  },
  {
   "cell_type": "code",
   "execution_count": 9,
   "id": "b118864e-a347-45ec-aced-0c36f971f902",
   "metadata": {},
   "outputs": [
    {
     "data": {
      "text/plain": [
       "'/Users/brianlee/Desktop/new_bats/scripts'"
      ]
     },
     "execution_count": 9,
     "metadata": {},
     "output_type": "execute_result"
    }
   ],
   "source": [
    "os.getcwd()"
   ]
  },
  {
   "cell_type": "code",
   "execution_count": 11,
   "id": "db0e2cf1-e014-468d-af2c-d30fcc4eef4e",
   "metadata": {},
   "outputs": [
    {
     "name": "stderr",
     "output_type": "stream",
     "text": [
      "/Users/brianlee/opt/anaconda3/envs/doppler/lib/python3.8/site-packages/sklearn/base.py:318: UserWarning: Trying to unpickle estimator DecisionTreeClassifier from version 0.24.1 when using version 1.2.2. This might lead to breaking code or invalid results. Use at your own risk. For more info please refer to:\n",
      "https://scikit-learn.org/stable/model_persistence.html#security-maintainability-limitations\n",
      "  warnings.warn(\n",
      "/Users/brianlee/opt/anaconda3/envs/doppler/lib/python3.8/site-packages/sklearn/base.py:318: UserWarning: Trying to unpickle estimator RandomForestClassifier from version 0.24.1 when using version 1.2.2. This might lead to breaking code or invalid results. Use at your own risk. For more info please refer to:\n",
      "https://scikit-learn.org/stable/model_persistence.html#security-maintainability-limitations\n",
      "  warnings.warn(\n"
     ]
    }
   ],
   "source": [
    "# load\n",
    "loaded_rf = joblib.load(\"../data/doppler/models/20230405_models/rf/best_rf.joblib\")"
   ]
  },
  {
   "cell_type": "code",
   "execution_count": 12,
   "id": "45953cbb-794d-4f9f-806c-f77992b64b05",
   "metadata": {},
   "outputs": [
    {
     "data": {
      "text/html": [
       "<style>#sk-container-id-1 {color: black;background-color: white;}#sk-container-id-1 pre{padding: 0;}#sk-container-id-1 div.sk-toggleable {background-color: white;}#sk-container-id-1 label.sk-toggleable__label {cursor: pointer;display: block;width: 100%;margin-bottom: 0;padding: 0.3em;box-sizing: border-box;text-align: center;}#sk-container-id-1 label.sk-toggleable__label-arrow:before {content: \"▸\";float: left;margin-right: 0.25em;color: #696969;}#sk-container-id-1 label.sk-toggleable__label-arrow:hover:before {color: black;}#sk-container-id-1 div.sk-estimator:hover label.sk-toggleable__label-arrow:before {color: black;}#sk-container-id-1 div.sk-toggleable__content {max-height: 0;max-width: 0;overflow: hidden;text-align: left;background-color: #f0f8ff;}#sk-container-id-1 div.sk-toggleable__content pre {margin: 0.2em;color: black;border-radius: 0.25em;background-color: #f0f8ff;}#sk-container-id-1 input.sk-toggleable__control:checked~div.sk-toggleable__content {max-height: 200px;max-width: 100%;overflow: auto;}#sk-container-id-1 input.sk-toggleable__control:checked~label.sk-toggleable__label-arrow:before {content: \"▾\";}#sk-container-id-1 div.sk-estimator input.sk-toggleable__control:checked~label.sk-toggleable__label {background-color: #d4ebff;}#sk-container-id-1 div.sk-label input.sk-toggleable__control:checked~label.sk-toggleable__label {background-color: #d4ebff;}#sk-container-id-1 input.sk-hidden--visually {border: 0;clip: rect(1px 1px 1px 1px);clip: rect(1px, 1px, 1px, 1px);height: 1px;margin: -1px;overflow: hidden;padding: 0;position: absolute;width: 1px;}#sk-container-id-1 div.sk-estimator {font-family: monospace;background-color: #f0f8ff;border: 1px dotted black;border-radius: 0.25em;box-sizing: border-box;margin-bottom: 0.5em;}#sk-container-id-1 div.sk-estimator:hover {background-color: #d4ebff;}#sk-container-id-1 div.sk-parallel-item::after {content: \"\";width: 100%;border-bottom: 1px solid gray;flex-grow: 1;}#sk-container-id-1 div.sk-label:hover label.sk-toggleable__label {background-color: #d4ebff;}#sk-container-id-1 div.sk-serial::before {content: \"\";position: absolute;border-left: 1px solid gray;box-sizing: border-box;top: 0;bottom: 0;left: 50%;z-index: 0;}#sk-container-id-1 div.sk-serial {display: flex;flex-direction: column;align-items: center;background-color: white;padding-right: 0.2em;padding-left: 0.2em;position: relative;}#sk-container-id-1 div.sk-item {position: relative;z-index: 1;}#sk-container-id-1 div.sk-parallel {display: flex;align-items: stretch;justify-content: center;background-color: white;position: relative;}#sk-container-id-1 div.sk-item::before, #sk-container-id-1 div.sk-parallel-item::before {content: \"\";position: absolute;border-left: 1px solid gray;box-sizing: border-box;top: 0;bottom: 0;left: 50%;z-index: -1;}#sk-container-id-1 div.sk-parallel-item {display: flex;flex-direction: column;z-index: 1;position: relative;background-color: white;}#sk-container-id-1 div.sk-parallel-item:first-child::after {align-self: flex-end;width: 50%;}#sk-container-id-1 div.sk-parallel-item:last-child::after {align-self: flex-start;width: 50%;}#sk-container-id-1 div.sk-parallel-item:only-child::after {width: 0;}#sk-container-id-1 div.sk-dashed-wrapped {border: 1px dashed gray;margin: 0 0.4em 0.5em 0.4em;box-sizing: border-box;padding-bottom: 0.4em;background-color: white;}#sk-container-id-1 div.sk-label label {font-family: monospace;font-weight: bold;display: inline-block;line-height: 1.2em;}#sk-container-id-1 div.sk-label-container {text-align: center;}#sk-container-id-1 div.sk-container {/* jupyter's `normalize.less` sets `[hidden] { display: none; }` but bootstrap.min.css set `[hidden] { display: none !important; }` so we also need the `!important` here to be able to override the default hidden behavior on the sphinx rendered scikit-learn.org. See: https://github.com/scikit-learn/scikit-learn/issues/21755 */display: inline-block !important;position: relative;}#sk-container-id-1 div.sk-text-repr-fallback {display: none;}</style><div id=\"sk-container-id-1\" class=\"sk-top-container\"><div class=\"sk-text-repr-fallback\"><pre>RandomForestClassifier(max_depth=100, max_features=&#x27;auto&#x27;, n_estimators=1400,\n",
       "                       random_state=42)</pre><b>In a Jupyter environment, please rerun this cell to show the HTML representation or trust the notebook. <br />On GitHub, the HTML representation is unable to render, please try loading this page with nbviewer.org.</b></div><div class=\"sk-container\" hidden><div class=\"sk-item\"><div class=\"sk-estimator sk-toggleable\"><input class=\"sk-toggleable__control sk-hidden--visually\" id=\"sk-estimator-id-1\" type=\"checkbox\" checked><label for=\"sk-estimator-id-1\" class=\"sk-toggleable__label sk-toggleable__label-arrow\">RandomForestClassifier</label><div class=\"sk-toggleable__content\"><pre>RandomForestClassifier(max_depth=100, max_features=&#x27;auto&#x27;, n_estimators=1400,\n",
       "                       random_state=42)</pre></div></div></div></div></div>"
      ],
      "text/plain": [
       "RandomForestClassifier(max_depth=100, max_features='auto', n_estimators=1400,\n",
       "                       random_state=42)"
      ]
     },
     "execution_count": 12,
     "metadata": {},
     "output_type": "execute_result"
    }
   ],
   "source": [
    "loaded_rf"
   ]
  },
  {
   "cell_type": "code",
   "execution_count": 17,
   "id": "ea64f24c-ce0d-492c-a127-6f58f668f105",
   "metadata": {},
   "outputs": [],
   "source": [
    "valid_data = pd.read_csv('/Users/brianlee/Desktop/new_bats/data/training/sources/validation_data/tx/validation_data/combined_validation_data.csv')\n",
    "valid_data = valid_data.drop('date', axis=1)"
   ]
  },
  {
   "cell_type": "code",
   "execution_count": 18,
   "id": "4c275c2f-40ab-48c5-9c6d-8f27cee2727d",
   "metadata": {},
   "outputs": [
    {
     "data": {
      "text/html": [
       "<div>\n",
       "<style scoped>\n",
       "    .dataframe tbody tr th:only-of-type {\n",
       "        vertical-align: middle;\n",
       "    }\n",
       "\n",
       "    .dataframe tbody tr th {\n",
       "        vertical-align: top;\n",
       "    }\n",
       "\n",
       "    .dataframe thead th {\n",
       "        text-align: right;\n",
       "    }\n",
       "</style>\n",
       "<table border=\"1\" class=\"dataframe\">\n",
       "  <thead>\n",
       "    <tr style=\"text-align: right;\">\n",
       "      <th></th>\n",
       "      <th>cor</th>\n",
       "      <th>pha</th>\n",
       "      <th>dif</th>\n",
       "      <th>ref</th>\n",
       "      <th>spw</th>\n",
       "      <th>vel</th>\n",
       "      <th>training_class</th>\n",
       "    </tr>\n",
       "  </thead>\n",
       "  <tbody>\n",
       "    <tr>\n",
       "      <th>0</th>\n",
       "      <td>0.998333</td>\n",
       "      <td>346.60272</td>\n",
       "      <td>6.9375</td>\n",
       "      <td>-1.5</td>\n",
       "      <td>1.5</td>\n",
       "      <td>9.5</td>\n",
       "      <td>0.0</td>\n",
       "    </tr>\n",
       "    <tr>\n",
       "      <th>1</th>\n",
       "      <td>0.811667</td>\n",
       "      <td>286.30865</td>\n",
       "      <td>7.9375</td>\n",
       "      <td>-4.0</td>\n",
       "      <td>1.5</td>\n",
       "      <td>9.5</td>\n",
       "      <td>0.0</td>\n",
       "    </tr>\n",
       "    <tr>\n",
       "      <th>2</th>\n",
       "      <td>0.811667</td>\n",
       "      <td>286.30865</td>\n",
       "      <td>7.9375</td>\n",
       "      <td>-4.0</td>\n",
       "      <td>1.0</td>\n",
       "      <td>10.0</td>\n",
       "      <td>0.0</td>\n",
       "    </tr>\n",
       "    <tr>\n",
       "      <th>3</th>\n",
       "      <td>1.051667</td>\n",
       "      <td>103.31088</td>\n",
       "      <td>7.9375</td>\n",
       "      <td>-4.5</td>\n",
       "      <td>1.0</td>\n",
       "      <td>10.0</td>\n",
       "      <td>0.0</td>\n",
       "    </tr>\n",
       "    <tr>\n",
       "      <th>4</th>\n",
       "      <td>1.051667</td>\n",
       "      <td>103.31088</td>\n",
       "      <td>7.9375</td>\n",
       "      <td>-4.5</td>\n",
       "      <td>2.0</td>\n",
       "      <td>9.0</td>\n",
       "      <td>0.0</td>\n",
       "    </tr>\n",
       "    <tr>\n",
       "      <th>...</th>\n",
       "      <td>...</td>\n",
       "      <td>...</td>\n",
       "      <td>...</td>\n",
       "      <td>...</td>\n",
       "      <td>...</td>\n",
       "      <td>...</td>\n",
       "      <td>...</td>\n",
       "    </tr>\n",
       "    <tr>\n",
       "      <th>259813</th>\n",
       "      <td>1.051667</td>\n",
       "      <td>137.86537</td>\n",
       "      <td>5.6250</td>\n",
       "      <td>-4.5</td>\n",
       "      <td>0.0</td>\n",
       "      <td>24.5</td>\n",
       "      <td>0.0</td>\n",
       "    </tr>\n",
       "    <tr>\n",
       "      <th>259814</th>\n",
       "      <td>0.705000</td>\n",
       "      <td>146.32770</td>\n",
       "      <td>1.5000</td>\n",
       "      <td>-4.5</td>\n",
       "      <td>1.0</td>\n",
       "      <td>6.5</td>\n",
       "      <td>0.0</td>\n",
       "    </tr>\n",
       "    <tr>\n",
       "      <th>259815</th>\n",
       "      <td>0.978333</td>\n",
       "      <td>125.52448</td>\n",
       "      <td>7.9375</td>\n",
       "      <td>5.0</td>\n",
       "      <td>1.0</td>\n",
       "      <td>6.5</td>\n",
       "      <td>0.0</td>\n",
       "    </tr>\n",
       "    <tr>\n",
       "      <th>259816</th>\n",
       "      <td>0.978333</td>\n",
       "      <td>125.52448</td>\n",
       "      <td>7.9375</td>\n",
       "      <td>-2.0</td>\n",
       "      <td>2.5</td>\n",
       "      <td>5.0</td>\n",
       "      <td>0.0</td>\n",
       "    </tr>\n",
       "    <tr>\n",
       "      <th>259817</th>\n",
       "      <td>0.621667</td>\n",
       "      <td>128.69786</td>\n",
       "      <td>-5.2500</td>\n",
       "      <td>-2.0</td>\n",
       "      <td>2.5</td>\n",
       "      <td>5.0</td>\n",
       "      <td>0.0</td>\n",
       "    </tr>\n",
       "  </tbody>\n",
       "</table>\n",
       "<p>259818 rows × 7 columns</p>\n",
       "</div>"
      ],
      "text/plain": [
       "             cor        pha     dif  ref  spw   vel  training_class\n",
       "0       0.998333  346.60272  6.9375 -1.5  1.5   9.5             0.0\n",
       "1       0.811667  286.30865  7.9375 -4.0  1.5   9.5             0.0\n",
       "2       0.811667  286.30865  7.9375 -4.0  1.0  10.0             0.0\n",
       "3       1.051667  103.31088  7.9375 -4.5  1.0  10.0             0.0\n",
       "4       1.051667  103.31088  7.9375 -4.5  2.0   9.0             0.0\n",
       "...          ...        ...     ...  ...  ...   ...             ...\n",
       "259813  1.051667  137.86537  5.6250 -4.5  0.0  24.5             0.0\n",
       "259814  0.705000  146.32770  1.5000 -4.5  1.0   6.5             0.0\n",
       "259815  0.978333  125.52448  7.9375  5.0  1.0   6.5             0.0\n",
       "259816  0.978333  125.52448  7.9375 -2.0  2.5   5.0             0.0\n",
       "259817  0.621667  128.69786 -5.2500 -2.0  2.5   5.0             0.0\n",
       "\n",
       "[259818 rows x 7 columns]"
      ]
     },
     "execution_count": 18,
     "metadata": {},
     "output_type": "execute_result"
    }
   ],
   "source": [
    "valid_data"
   ]
  },
  {
   "cell_type": "code",
   "execution_count": 19,
   "id": "9d1826b2-4c1b-42e5-8f2c-c1bbdb7e7787",
   "metadata": {},
   "outputs": [],
   "source": [
    "# Form np arrays of labels and features.\n",
    "val_labels2 = np.array(valid_data.pop('training_class'))\n",
    "\n",
    "variables = ['cor', 'pha', 'dif', 'ref', 'spw', 'vel']\n",
    "\n",
    "val_features2 = np.array(valid_data[variables])\n",
    "\n",
    "# val_features2_norm=normalizer(val_features2)"
   ]
  },
  {
   "cell_type": "code",
   "execution_count": 32,
   "id": "19882d5d-38ad-4a1e-8cec-35cefd1e6f71",
   "metadata": {},
   "outputs": [
    {
     "name": "stdout",
     "output_type": "stream",
     "text": [
      "Model Performance\n",
      "Accuracy:  0.9474478288648207\n",
      "Precision:  0.8784393681460073\n",
      "Recall:  0.8552129504721526\n",
      "AUC:  0.912839344306139\n",
      "PRC:  0.7801691191659202\n"
     ]
    }
   ],
   "source": [
    "random_metrics = evaluate(loaded_rf, val_features2, val_labels2)"
   ]
  },
  {
   "cell_type": "code",
   "execution_count": 39,
   "id": "27a2cfe4-3de8-41ce-91d9-301722e22c42",
   "metadata": {},
   "outputs": [],
   "source": [
    "# Evaluate metrics\n",
    "train_predictions_baseline2 = loaded_rf.predict(train_features)\n",
    "test_predictions_baseline2 = loaded_rf.predict(val_features2)\n",
    "\n",
    "\n",
    "\n",
    "# def plot_cm(labels, predictions, p=0.5):\n",
    "#     cm = confusion_matrix(labels, predictions > p)\n",
    "#     plt.figure(figsize=(5,5))\n",
    "#     sns.heatmap(cm, annot=True, fmt=\"d\")\n",
    "#     plt.title('Confusion matrix @{:.2f}'.format(p))\n",
    "#     plt.ylabel('Actual label')\n",
    "#     plt.xlabel('Predicted label')\n",
    "\n",
    "#     print('No bats (True Negatives): ', cm[0][0])\n",
    "#     print('Bats Incorrectly Detected (False Positives): ', cm[0][1])\n",
    "#     print('Bats Missed (False Negatives): ', cm[1][0])\n",
    "#     print('Bats Detected (True Positives): ', cm[1][1])\n",
    "#     print('Total bat occurrence: ', np.sum(cm[1]))\n",
    "\n",
    "# baseline_results = loaded_rf.evaluate(val_features2, val_labels2,\n",
    "#                                   batch_size=32, verbose=0)\n",
    "# for name, value in zip(model.metrics_names, baseline_results):\n",
    "#     print(name, ': ', value)\n",
    "# print()\n",
    "\n",
    "# plot_cm(val_labels2, val_features2)"
   ]
  },
  {
   "cell_type": "code",
   "execution_count": 52,
   "id": "a4c81b3c-0613-4816-bb1c-49595dbbcf57",
   "metadata": {},
   "outputs": [],
   "source": [
    "import matplotlib as mpl\n",
    "\n",
    "colors = plt.rcParams['axes.prop_cycle'].by_key()['color']\n",
    "mpl.rcParams['figure.figsize'] = (12, 10)\n"
   ]
  },
  {
   "cell_type": "code",
   "execution_count": 62,
   "id": "c8716467-cb0c-47ae-bc26-1f26ba689e6a",
   "metadata": {},
   "outputs": [],
   "source": [
    "mcc = matthews_corrcoef(val_labels2, test_predictions_baseline2)"
   ]
  },
  {
   "cell_type": "code",
   "execution_count": 63,
   "id": "8021d5a6-3968-4829-9c43-bbb4635f5308",
   "metadata": {},
   "outputs": [
    {
     "data": {
      "text/plain": [
       "0.8340684820230468"
      ]
     },
     "execution_count": 63,
     "metadata": {},
     "output_type": "execute_result"
    }
   ],
   "source": [
    "mcc"
   ]
  },
  {
   "cell_type": "code",
   "execution_count": 53,
   "id": "ce7f9cbe-b7f4-46f2-bf6c-e85f1fe3fe83",
   "metadata": {},
   "outputs": [
    {
     "data": {
      "image/png": "[encoded data removed]",
      "text/plain": [
       "<Figure size 864x720 with 1 Axes>"
      ]
     },
     "metadata": {
      "needs_background": "light"
     },
     "output_type": "display_data"
    }
   ],
   "source": [
    "# Plot the ROC\n",
    "def plot_roc(name, labels, predictions, **kwargs):\n",
    "    fp, tp, _ = roc_curve(labels, predictions)\n",
    "\n",
    "    plt.plot(100*fp, 100*tp, label=name, linewidth=2, **kwargs)\n",
    "    plt.xlabel('False positives [%]')\n",
    "    plt.ylabel('True positives [%]')\n",
    "    plt.xlim([-0.5,80])\n",
    "    plt.ylim([10,100.5])\n",
    "    plt.grid(True)\n",
    "    ax = plt.gca()\n",
    "    ax.set_aspect('equal')\n",
    "\n",
    "\n",
    "plot_roc(\"Train Baseline\", train_labels, train_predictions_baseline2, color=colors[0])\n",
    "plot_roc(\"Test Baseline\", val_labels2, test_predictions_baseline2, color=colors[0], linestyle='--')\n",
    "plt.legend(loc='lower right');"
   ]
  },
  {
   "cell_type": "code",
   "execution_count": 60,
   "id": "02ed8594-ea3f-4e54-899d-fbd8386f6192",
   "metadata": {},
   "outputs": [
    {
     "data": {
      "image/png": "[encoded data removed]",
      "text/plain": [
       "<Figure size 864x720 with 1 Axes>"
      ]
     },
     "metadata": {
      "needs_background": "light"
     },
     "output_type": "display_data"
    }
   ],
   "source": [
    "# Plot the AUPRC\n",
    "def plot_prc(name, labels, predictions, **kwargs):\n",
    "    precision, recall, _ = precision_recall_curve(labels, predictions)\n",
    "\n",
    "    plt.plot(precision, recall, label=name, linewidth=2, **kwargs)\n",
    "    plt.xlabel('Precision')\n",
    "    plt.ylabel('Recall')\n",
    "    plt.grid(True)\n",
    "    ax = plt.gca()\n",
    "    ax.set_aspect('equal')\n",
    "\n",
    "mpl.rcParams['figure.figsize'] = (12, 10)\n",
    "\n",
    "plot_prc(\"Train Baseline\", train_labels, train_predictions_baseline2, color=colors[0])\n",
    "plot_prc(\"Test Baseline\", val_labels2, test_predictions_baseline2, color=colors[0], linestyle='--')\n",
    "plt.legend(loc='lower right');"
   ]
  },
  {
   "cell_type": "code",
   "execution_count": null,
   "id": "8d084ac3-7443-4ec8-96b4-c93c7b9e0f55",
   "metadata": {},
   "outputs": [],
   "source": []
  }
 ],
 "metadata": {
  "kernelspec": {
   "display_name": "doppler",
   "language": "python",
   "name": "doppler"
  },
  "language_info": {
   "codemirror_mode": {
    "name": "ipython",
    "version": 3
   },
   "file_extension": ".py",
   "mimetype": "text/x-python",
   "name": "python",
   "nbconvert_exporter": "python",
   "pygments_lexer": "ipython3",
   "version": "3.8.5"
  }
 },
 "nbformat": 4,
 "nbformat_minor": 5
}
